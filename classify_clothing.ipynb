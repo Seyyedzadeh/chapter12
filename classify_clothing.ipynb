{
  "cells": [
    {
      "cell_type": "code",
      "execution_count": null,
      "metadata": {
        "id": "Se33L2iShgKl"
      },
      "outputs": [],
      "source": [
        "from keras import datasets, layers, models, losses\n",
        "import tensorflow as tf\n",
        "import matplotlib.pyplot as plt\n",
        "from keras.preprocessing.image import ImageDataGenerator\n",
        "from tensorflow import keras\n",
        "import numpy as np"
      ]
    },
    {
      "cell_type": "code",
      "execution_count": null,
      "metadata": {
        "colab": {
          "base_uri": "https://localhost:8080/"
        },
        "id": "O6X80vqIhh8P",
        "outputId": "dbae45b5-7b50-47da-f6b3-8a05d16c8b9b"
      },
      "outputs": [
        {
          "output_type": "stream",
          "name": "stdout",
          "text": [
            "Downloading data from https://storage.googleapis.com/tensorflow/tf-keras-datasets/train-labels-idx1-ubyte.gz\n",
            "29515/29515 [==============================] - 0s 0us/step\n",
            "Downloading data from https://storage.googleapis.com/tensorflow/tf-keras-datasets/train-images-idx3-ubyte.gz\n",
            "26421880/26421880 [==============================] - 1s 0us/step\n",
            "Downloading data from https://storage.googleapis.com/tensorflow/tf-keras-datasets/t10k-labels-idx1-ubyte.gz\n",
            "5148/5148 [==============================] - 0s 0us/step\n",
            "Downloading data from https://storage.googleapis.com/tensorflow/tf-keras-datasets/t10k-images-idx3-ubyte.gz\n",
            "4422102/4422102 [==============================] - 1s 0us/step\n"
          ]
        }
      ],
      "source": [
        "fashion_mnist = tf.keras.datasets.fashion_mnist\n",
        "\n",
        "(train_images, train_labels), (test_images, test_labels) = fashion_mnist.load_data()"
      ]
    },
    {
      "cell_type": "code",
      "execution_count": null,
      "metadata": {
        "id": "WVEEg36Chuij"
      },
      "outputs": [],
      "source": [
        "class_names = ['Ankle boot','Bag','Coat','Dress','Pullover','Sandal', 'Shirt', 'Sneaker','Trouser','T-shirt/top']\n",
        "\n",
        "train_images = train_images / 255.0\n",
        "test_images = test_images / 255.0\n",
        "\n",
        "X_train = train_images.reshape((train_images.shape[0], 28, 28, 1))\n",
        "X_test = test_images.reshape((test_images.shape[0], 28, 28, 1))\n",
        "\n",
        "tf.random.set_seed(42)\n",
        "\n",
        "\n",
        "model = models.Sequential()\n",
        "model.add(layers.Conv2D(32, (3, 3), activation='relu', input_shape=(28, 28, 1)))\n",
        "model.add(layers.MaxPooling2D((2, 2)))\n",
        "model.add(layers.Conv2D(64, (3, 3), activation='relu'))\n",
        "model.add(layers.MaxPooling2D((2, 2)))\n",
        "model.add(layers.Conv2D(128, (3, 3), activation='relu'))\n",
        "\n",
        "model.add(layers.Flatten())\n",
        "model.add(layers.Dense(64, activation='relu'))\n",
        "model.add(layers.Dense(10, activation='softmax'))\n",
        "\n",
        "model.compile(optimizer='adam',\n",
        "              loss=losses.sparse_categorical_crossentropy,\n",
        "              metrics=['accuracy'])\n"
      ]
    },
    {
      "cell_type": "code",
      "execution_count": null,
      "metadata": {
        "id": "cCkI9YWYqDGs"
      },
      "outputs": [],
      "source": [
        "datagen = ImageDataGenerator(\n",
        "    height_shift_range=0.4,\n",
        "    width_shift_range=0.15,\n",
        "    vertical_flip=True\n",
        ")\n",
        "train_generator = datagen.flow(train_images[..., np.newaxis], train_labels, batch_size=32)\n"
      ]
    },
    {
      "cell_type": "code",
      "execution_count": null,
      "metadata": {
        "colab": {
          "base_uri": "https://localhost:8080/"
        },
        "id": "lDx0luBmhxUF",
        "outputId": "20a8fff5-d3b8-4a51-d5e2-b84fbb341c72"
      },
      "outputs": [
        {
          "output_type": "stream",
          "name": "stdout",
          "text": [
            "Epoch 1/10\n",
            "1875/1875 [==============================] - 24s 13ms/step - loss: 0.4282 - accuracy: 0.8436 - val_loss: 0.3177 - val_accuracy: 0.8925\n",
            "Epoch 2/10\n",
            "1875/1875 [==============================] - 25s 14ms/step - loss: 0.3817 - accuracy: 0.8605 - val_loss: 0.2979 - val_accuracy: 0.8960\n",
            "Epoch 3/10\n",
            "1875/1875 [==============================] - 25s 14ms/step - loss: 0.3710 - accuracy: 0.8640 - val_loss: 0.2860 - val_accuracy: 0.8975\n",
            "Epoch 4/10\n",
            "1875/1875 [==============================] - 24s 13ms/step - loss: 0.3616 - accuracy: 0.8681 - val_loss: 0.3118 - val_accuracy: 0.8899\n",
            "Epoch 5/10\n",
            "1875/1875 [==============================] - 25s 13ms/step - loss: 0.3532 - accuracy: 0.8705 - val_loss: 0.2892 - val_accuracy: 0.8981\n",
            "Epoch 6/10\n",
            "1875/1875 [==============================] - 25s 13ms/step - loss: 0.3461 - accuracy: 0.8719 - val_loss: 0.2976 - val_accuracy: 0.8963\n",
            "Epoch 7/10\n",
            "1875/1875 [==============================] - 24s 13ms/step - loss: 0.3437 - accuracy: 0.8743 - val_loss: 0.2962 - val_accuracy: 0.8968\n",
            "Epoch 8/10\n",
            "1875/1875 [==============================] - 24s 13ms/step - loss: 0.3418 - accuracy: 0.8754 - val_loss: 0.2968 - val_accuracy: 0.8981\n",
            "Epoch 9/10\n",
            "1875/1875 [==============================] - 24s 13ms/step - loss: 0.3408 - accuracy: 0.8761 - val_loss: 0.2807 - val_accuracy: 0.8969\n",
            "Epoch 10/10\n",
            "1875/1875 [==============================] - 26s 14ms/step - loss: 0.3366 - accuracy: 0.8766 - val_loss: 0.2839 - val_accuracy: 0.8993\n",
            "313/313 - 1s - loss: 0.2839 - accuracy: 0.8993 - 630ms/epoch - 2ms/step\n",
            "Accuracy on test set: 0.8992999792098999\n"
          ]
        }
      ],
      "source": [
        "model.fit(train_generator, validation_data=(X_test, test_labels), epochs=10)\n",
        "\n",
        "test_loss, test_acc = model.evaluate(X_test, test_labels, verbose=2)\n",
        "\n",
        "print('Accuracy on test set:', test_acc)"
      ]
    },
    {
      "cell_type": "code",
      "execution_count": null,
      "metadata": {
        "colab": {
          "base_uri": "https://localhost:8080/"
        },
        "id": "vQk6rekqh5_f",
        "outputId": "d46033aa-5d98-4554-a45a-8faa88ac5338"
      },
      "outputs": [
        {
          "output_type": "stream",
          "name": "stdout",
          "text": [
            "313/313 - 1s - loss: 0.2839 - accuracy: 0.8993 - 630ms/epoch - 2ms/step\n",
            "Accuracy on test set: 0.8992999792098999\n"
          ]
        }
      ],
      "source": [
        "test_loss, test_acc = model.evaluate(X_test, test_labels, verbose=2)\n",
        "\n",
        "print('Accuracy on test set:', test_acc)"
      ]
    }
  ],
  "metadata": {
    "accelerator": "GPU",
    "colab": {
      "gpuType": "T4",
      "provenance": []
    },
    "kernelspec": {
      "display_name": "Python 3",
      "name": "python3"
    },
    "language_info": {
      "codemirror_mode": {
        "name": "ipython",
        "version": 3
      },
      "file_extension": ".py",
      "mimetype": "text/x-python",
      "name": "python",
      "nbconvert_exporter": "python",
      "pygments_lexer": "ipython3",
      "version": "3.11.4"
    }
  },
  "nbformat": 4,
  "nbformat_minor": 0
}